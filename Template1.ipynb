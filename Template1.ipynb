{
 "cells": [
  {
   "cell_type": "code",
   "execution_count": null,
   "metadata": {
    "collapsed": true
   },
   "outputs": [],
   "source": [
    "#Imports\n"
   ]
  },
  {
   "cell_type": "code",
   "execution_count": null,
   "metadata": {
    "collapsed": true
   },
   "outputs": [],
   "source": [
    "filename = 'train.csv'\n",
    "#names=[preg, plas, pres, skin, test, mass, pedi, age, class] \n",
    "#data = pandas.read_csv(filename, names=names)\n",
    "data = pandas.read_csv(filename)\n",
    "print(data.shape)\n",
    "\n",
    "#from a url\n",
    "url = \"https://goo.gl/vhm1eU\"\n",
    "names=[preg, plas, pres, skin, test, mass, pedi, age, class] \n",
    "data = pandas.read_csv(url, names=names)"
   ]
  },
  {
   "cell_type": "code",
   "execution_count": null,
   "metadata": {
    "collapsed": true
   },
   "outputs": [],
   "source": [
    "df = pd.read_excel('http://cdn.sundog-soft.com/Udemy/DataScience/cars.xls')"
   ]
  },
  {
   "cell_type": "code",
   "execution_count": null,
   "metadata": {
    "collapsed": true
   },
   "outputs": [],
   "source": [
    "#merge 2 dataframes\n",
    "ratings = pd.merge(movies, ratings)\n"
   ]
  },
  {
   "cell_type": "code",
   "execution_count": null,
   "metadata": {
    "collapsed": true
   },
   "outputs": [],
   "source": [
    "#linear regression - r value\n",
    "from scipy import stats\n",
    "slope, intercept, r_value, p_value, std_err = stats.linregress(pageSpeeds, purchaseAmount)"
   ]
  },
  {
   "cell_type": "code",
   "execution_count": null,
   "metadata": {
    "collapsed": true
   },
   "outputs": [],
   "source": [
    "#the closer the r value is to 1, the better the fit\n",
    "r_value ** 2"
   ]
  },
  {
   "cell_type": "code",
   "execution_count": null,
   "metadata": {
    "collapsed": true
   },
   "outputs": [],
   "source": [
    "#groupby a column to get the counts\n",
    "out_count = data.groupby('OutcomeType').size()\n",
    "print(out_count)"
   ]
  },
  {
   "cell_type": "code",
   "execution_count": null,
   "metadata": {
    "collapsed": true
   },
   "outputs": [],
   "source": [
    "#groupby a column then aggregate with these functions\n",
    "movieStats = ratings.groupby('title').agg({'rating': [np.size, np.mean]})\n",
    "movieStats.head()"
   ]
  },
  {
   "cell_type": "code",
   "execution_count": null,
   "metadata": {
    "collapsed": true
   },
   "outputs": [],
   "source": [
    "#create ordinal values for columns\n",
    "data['breed_ord'] = pandas.Categorical(data.Breed).codes\n",
    "data['outcome_ord'] = pandas.Categorical(data.OutcomeType).codes\n",
    "data['outcomesub_ord'] = pandas.Categorical(data.OutcomeSubtype).codes\n",
    "data['animal_ord'] = pandas.Categorical(data.AnimalType).codes\n",
    "data['sex_ord'] = pandas.Categorical(data.SexuponOutcome).codes\n",
    "#set your own\n",
    "gender = {'Neutered Male':1, 'Spayed Female':2, 'Intact Male':3, 'Intact Female':4, 'Unknown':5, np.nan:0}\n",
    "data['SexuponOutcome'] = data['SexuponOutcome'].map(gender)\n",
    "#fill na\n",
    "data['HasName'] = data['Name'].fillna(0)\n",
    "data.loc[data['HasName'] != 0,\"HasName\"] = 1\n",
    "data['HasName'] = data['HasName'].astype(int)\n",
    "data['AnimalType'] = data['AnimalType'].map({'Cat':0,'Dog':1})\n"
   ]
  },
  {
   "cell_type": "code",
   "execution_count": null,
   "metadata": {
    "collapsed": true
   },
   "outputs": [],
   "source": [
    "#apply transform method to a column\n",
    "def agetodays(x):\n",
    "        try:\n",
    "            y = x.split()\n",
    "        except:\n",
    "            return None \n",
    "        if 'year' in y[1]:\n",
    "            return float(y[0]) * 365\n",
    "        elif 'month' in y[1]:\n",
    "            return float(y[0]) * (365/12)\n",
    "        elif 'week' in y[1]:\n",
    "            return float(y[0]) * 7\n",
    "        elif 'day' in y[1]:\n",
    "            return float(y[0])\n",
    "\n",
    "data['age_in_days_ord'] = data['AgeuponOutcome'].map(agetodays)"
   ]
  },
  {
   "cell_type": "code",
   "execution_count": null,
   "metadata": {
    "collapsed": true
   },
   "outputs": [],
   "source": [
    "#apply pearson's correlation - see the corellation between columns (have to be ordinal or some sort of number)\n",
    "correlations = data.corr(method='pearson')\n",
    "print(correlations)"
   ]
  },
  {
   "cell_type": "code",
   "execution_count": null,
   "metadata": {
    "collapsed": true
   },
   "outputs": [],
   "source": [
    "#correlation matrix plot - see the correleation between features\n",
    "import matplotlib.pyplot as plt\n",
    "import pandas\n",
    "import numpy\n",
    "url = \"https://goo.gl/vhm1eU\"\n",
    "names=[preg, plas, pres, skin, test, mass, pedi, age, class] data = pandas.read_csv(url, names=names)\n",
    "correlations = data.corr()\n",
    "# plot correlation matrix\n",
    "fig = plt.figure()\n",
    "ax = fig.add_subplot(111)\n",
    "cax = ax.matshow(correlations, vmin=-1, vmax=1)\n",
    "fig.colorbar(cax)\n",
    "ticks = numpy.arange(0,9,1)\n",
    "ax.set_xticks(ticks)\n",
    "ax.set_yticks(ticks)\n",
    "ax.set_xticklabels(names)\n",
    "ax.set_yticklabels(names)\n",
    "plt.show()"
   ]
  },
  {
   "cell_type": "code",
   "execution_count": null,
   "metadata": {
    "collapsed": true
   },
   "outputs": [],
   "source": [
    "#scatterplot matrix\n",
    "# Scatter Plot Matrix\n",
    "import matplotlib.pyplot as plt\n",
    "import pandas\n",
    "from pandas.tools.plotting import scatter_matrix\n",
    "url = \"https://goo.gl/vhm1eU\"\n",
    "names=[preg, plas, pres, skin, test, mass, pedi, age, class] data = pandas.read_csv(url, names=names)\n",
    "scatter_matrix(data)\n",
    "plt.show()"
   ]
  },
  {
   "cell_type": "code",
   "execution_count": null,
   "metadata": {
    "collapsed": true
   },
   "outputs": [],
   "source": [
    "#pivoting data\n",
    "#row for every user id, columns will be the title, and rating will be the value in the column\n",
    "movieRatings = ratings.pivot_table(index=['user_id'],columns=['title'],values='rating')\n",
    "movieRatings.head()"
   ]
  },
  {
   "cell_type": "code",
   "execution_count": null,
   "metadata": {
    "collapsed": true
   },
   "outputs": [],
   "source": [
    "#sorting\n",
    "df.sort_values(['similarity'], ascending=False)[:15]"
   ]
  },
  {
   "cell_type": "code",
   "execution_count": null,
   "metadata": {
    "collapsed": true
   },
   "outputs": [],
   "source": [
    "#corrwith - correlates a column with every other column in the dataframe\n",
    "#get this column\n",
    "starWarsRatings = movieRatings['Star Wars (1977)']\n",
    "similarMovies = movieRatings.corrwith(starWarsRatings)\n",
    "similarMovies = similarMovies.dropna()\n",
    "df = pd.DataFrame(similarMovies)\n",
    "df.head(10)\n",
    "\n",
    "#then sort by correlation\n",
    "similarMovies.sort_values(ascending=False)"
   ]
  }
 ],
 "metadata": {
  "kernelspec": {
   "display_name": "Python 2",
   "language": "python",
   "name": "python2"
  },
  "language_info": {
   "codemirror_mode": {
    "name": "ipython",
    "version": 2
   },
   "file_extension": ".py",
   "mimetype": "text/x-python",
   "name": "python",
   "nbconvert_exporter": "python",
   "pygments_lexer": "ipython2",
   "version": "2.7.12"
  }
 },
 "nbformat": 4,
 "nbformat_minor": 0
}
