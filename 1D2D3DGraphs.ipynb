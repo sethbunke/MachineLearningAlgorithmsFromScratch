{
 "cells": [
  {
   "cell_type": "code",
   "execution_count": 1,
   "metadata": {
    "collapsed": true
   },
   "outputs": [],
   "source": [
    "import numpy as np\n",
    "import pandas as pd"
   ]
  },
  {
   "cell_type": "code",
   "execution_count": null,
   "metadata": {
    "collapsed": true
   },
   "outputs": [],
   "source": [
    "\n",
    "\n",
    "# KNN Curse of Dimensionalitys\n",
    "import random,math\n",
    "\n",
    "def random_point_gen(dimension):\n",
    "    return [random.random() for _ in range(dimension)]\n",
    "\n",
    "def distance(v,w):\n",
    "    vec_sub = [v_i-w_i for v_i,w_i in zip(v,w)]\n",
    "    sum_of_sqrs = sum(v_i*v_i for v_i in vec_sub)\n",
    "    return math.sqrt(sum_of_sqrs)\n",
    "\n",
    "def random_distances_comparison(dimension,number_pairs):\n",
    "    return [distance(random_point_gen(dimension),random_point_gen(dimension))\n",
    "            for _ in range(number_pairs)]\n",
    "\n",
    "def mean(x):\n",
    "    return sum(x) / len(x)\n",
    "\n",
    "dimensions = range(1, 201, 5)\n",
    "\n",
    "avg_distances = []\n",
    "min_distances = []\n"
   ]
  }
 ],
 "metadata": {
  "kernelspec": {
   "display_name": "Python [tensorflow2]",
   "language": "python",
   "name": "Python [tensorflow2]"
  },
  "language_info": {
   "codemirror_mode": {
    "name": "ipython",
    "version": 3
   },
   "file_extension": ".py",
   "mimetype": "text/x-python",
   "name": "python",
   "nbconvert_exporter": "python",
   "pygments_lexer": "ipython3",
   "version": "3.5.3"
  }
 },
 "nbformat": 4,
 "nbformat_minor": 0
}
