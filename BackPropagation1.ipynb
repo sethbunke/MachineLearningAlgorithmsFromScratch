{
 "cells": [
  {
   "cell_type": "code",
   "execution_count": 16,
   "metadata": {
    "collapsed": true
   },
   "outputs": [],
   "source": [
    "# Example of initializing a network\n",
    "from random import seed\n",
    "from random import random\n",
    "from math import exp"
   ]
  },
  {
   "cell_type": "code",
   "execution_count": 17,
   "metadata": {
    "collapsed": false
   },
   "outputs": [],
   "source": [
    "# Initialize a network\n",
    "def initialize_network(n_inputs, n_hidden, n_outputs):\n",
    "    network = list()\n",
    "    #for each neron (n_hidden number of neurons), add input weight for each input and a weight for the bias\n",
    "    hidden_layer = [{ 'layer': 'hidden', 'weights' :[random() for i in range(n_inputs + 1)]} for i in range(n_hidden)]\n",
    "    network.append(hidden_layer)\n",
    "    #for each neron (n_outputs number of neurons), add a weight for each neuron in the hidden layer and the bias\n",
    "    output_layer = [{ 'layer': 'output', 'weights' :[random() for i in range(n_hidden + 1)]} for i in range(n_outputs)]\n",
    "    network.append(output_layer)\n",
    "    return network"
   ]
  },
  {
   "cell_type": "code",
   "execution_count": 18,
   "metadata": {
    "collapsed": false
   },
   "outputs": [
    {
     "name": "stdout",
     "output_type": "stream",
     "text": [
      "[{'weights': [0.13436424411240122, 0.8474337369372327, 0.763774618976614], 'layer': 'hidden'}]\n",
      "[{'weights': [0.2550690257394217, 0.49543508709194095], 'layer': 'output'}, {'weights': [0.4494910647887381, 0.651592972722763], 'layer': 'output'}]\n"
     ]
    }
   ],
   "source": [
    "# Test initializing a network\n",
    "seed(1)\n",
    "network = initialize_network(2, 1, 2)\n",
    "for layer in network:\n",
    "    print(layer)"
   ]
  },
  {
   "cell_type": "code",
   "execution_count": 19,
   "metadata": {
    "collapsed": true
   },
   "outputs": [],
   "source": [
    "# Calculate neuron activation for an input\n",
    "def activate(weights, inputs):\n",
    "    activation = weights[-1] #the bias\n",
    "    for i in range(len(weights)-1):\n",
    "        activation += weights[i] * inputs[i]\n",
    "    return activation"
   ]
  },
  {
   "cell_type": "code",
   "execution_count": 20,
   "metadata": {
    "collapsed": true
   },
   "outputs": [],
   "source": [
    "# Transfer neuron activation\n",
    "def transfer(activation):\n",
    "    return 1.0 / (1.0 + exp(-activation))"
   ]
  },
  {
   "cell_type": "code",
   "execution_count": 53,
   "metadata": {
    "collapsed": false
   },
   "outputs": [
    {
     "name": "stdout",
     "output_type": "stream",
     "text": [
      "0.8981388630890152\n"
     ]
    },
    {
     "data": {
      "text/plain": [
       "0.7105668883115941"
      ]
     },
     "execution_count": 53,
     "metadata": {},
     "output_type": "execute_result"
    }
   ],
   "source": [
    "w = [0.13436424411240122, 0.8474337369372327, 0.763774618976614]\n",
    "inp = [1, 0, None]\n",
    "#(0.13 * 1) + (0.84 * 0) + 0.76\n",
    "val = activate(w,inp)\n",
    "print(val)\n",
    "transfer(val)"
   ]
  },
  {
   "cell_type": "code",
   "execution_count": 68,
   "metadata": {
    "collapsed": false
   },
   "outputs": [
    {
     "name": "stdout",
     "output_type": "stream",
     "text": [
      "0.8918104922359249\n",
      "0.7245224918787679\n"
     ]
    },
    {
     "data": {
      "text/plain": [
       "0.6736021221234334"
      ]
     },
     "execution_count": 68,
     "metadata": {},
     "output_type": "execute_result"
    }
   ],
   "source": [
    "#w2 = [0.4494910647887381, 0.651592972722763] \n",
    "w2 = [0.2550690257394217, 0.49543508709194095]\n",
    "#(0.7105668883115941 * 0.2550690257394217) + 0.7105668883115941\n",
    "testr = (0.7105668883115941 * 0.2550690257394217) + 0.7105668883115941\n",
    "print(testr)\n",
    "v = activate(w2, [val])\n",
    "print(v)\n",
    "transfer(v)\n",
    "\n",
    "\n"
   ]
  },
  {
   "cell_type": "code",
   "execution_count": 65,
   "metadata": {
    "collapsed": true
   },
   "outputs": [],
   "source": [
    "# Forward-propagate input to a network output\n",
    "def forward_propagate(network, row):\n",
    "    inputs = row\n",
    "    for layer in network:\n",
    "        new_inputs = []\n",
    "        print('layer ++++++++++++++++++++++++++++++++++')\n",
    "        print(layer)\n",
    "        for neuron in layer:\n",
    "            print('inputs')\n",
    "            print(inputs)\n",
    "            #for each neuron, apply the weights and the bias\n",
    "            activation = activate(neuron[ 'weights' ], inputs) #for each\n",
    "            print('activation')\n",
    "            print(activation)\n",
    "            #for each neuron apply the transfer/activation function\n",
    "            neuron[ 'output' ] = transfer(activation)\n",
    "            print('neuron')\n",
    "            print(neuron)\n",
    "            new_inputs.append(neuron[ 'output' ])\n",
    "            print('new inputs')\n",
    "            print(new_inputs)\n",
    "        inputs = new_inputs #these become the inputs for the next layer\n",
    "    return inputs"
   ]
  },
  {
   "cell_type": "code",
   "execution_count": 66,
   "metadata": {
    "collapsed": false
   },
   "outputs": [
    {
     "name": "stdout",
     "output_type": "stream",
     "text": [
      "layer ++++++++++++++++++++++++++++++++++\n",
      "[{'weights': [0.13436424411240122, 0.8474337369372327, 0.763774618976614]}]\n",
      "inputs\n",
      "[1, 0, None]\n",
      "activation\n",
      "0.8981388630890152\n",
      "neuron\n",
      "{'weights': [0.13436424411240122, 0.8474337369372327, 0.763774618976614], 'output': 0.7105668883115941}\n",
      "new inputs\n",
      "[0.7105668883115941]\n",
      "layer ++++++++++++++++++++++++++++++++++\n",
      "[{'weights': [0.2550690257394217, 0.49543508709194095]}, {'weights': [0.4494910647887381, 0.651592972722763]}]\n",
      "inputs\n",
      "[0.7105668883115941]\n",
      "activation\n",
      "0.6766786910162718\n",
      "neuron\n",
      "{'weights': [0.2550690257394217, 0.49543508709194095], 'output': 0.6629970129852887}\n",
      "new inputs\n",
      "[0.6629970129852887]\n",
      "inputs\n",
      "[0.7105668883115941]\n",
      "activation\n",
      "0.9709864399535617\n",
      "neuron\n",
      "{'weights': [0.4494910647887381, 0.651592972722763], 'output': 0.7253160725279748}\n",
      "new inputs\n",
      "[0.6629970129852887, 0.7253160725279748]\n",
      "[0.6629970129852887, 0.7253160725279748]\n"
     ]
    }
   ],
   "source": [
    "# test forward propagation\n",
    "network = [[{ 'weights' : [0.13436424411240122, 0.8474337369372327, 0.763774618976614]}],\n",
    "    [{ 'weights' : [0.2550690257394217, 0.49543508709194095]}, { 'weights' :\n",
    "       [0.4494910647887381, 0.651592972722763]}]]\n",
    "row = [1, 0, None]\n",
    "output = forward_propagate(network, row)\n",
    "print(output) #output from final layer"
   ]
  },
  {
   "cell_type": "code",
   "execution_count": 69,
   "metadata": {
    "collapsed": true
   },
   "outputs": [],
   "source": [
    "# Calculate the derivative of an neuron output\n",
    "#this calculates the derivative of the sigmoid function\n",
    "#this calculation is used for neurons in the output layer\n",
    "def transfer_derivative(output):\n",
    "    return output * (1.0 - output)"
   ]
  },
  {
   "cell_type": "code",
   "execution_count": 72,
   "metadata": {
    "collapsed": true
   },
   "outputs": [],
   "source": [
    "# Backpropagate error and store in neurons\n",
    "def backward_propagate_error(network, expected):\n",
    "\tfor i in reversed(range(len(network))):\n",
    "\t\tlayer = network[i]\n",
    "\t\terrors = list()\n",
    "\t\tif i != len(network)-1:\n",
    "\t\t\tfor j in range(len(layer)):\n",
    "\t\t\t\terror = 0.0\n",
    "\t\t\t\tfor neuron in network[i + 1]:\n",
    "\t\t\t\t\terror += (neuron['weights'][j] * neuron['delta'])\n",
    "\t\t\t\terrors.append(error)\n",
    "\t\telse:\n",
    "\t\t\tfor j in range(len(layer)):\n",
    "\t\t\t\tneuron = layer[j]\n",
    "\t\t\t\terrors.append(expected[j] - neuron['output'])\n",
    "\t\tfor j in range(len(layer)):\n",
    "\t\t\tneuron = layer[j]\n",
    "\t\t\tneuron['delta'] = errors[j] * transfer_derivative(neuron['output'])"
   ]
  },
  {
   "cell_type": "code",
   "execution_count": 73,
   "metadata": {
    "collapsed": false
   },
   "outputs": [
    {
     "name": "stdout",
     "output_type": "stream",
     "text": [
      "[{'weights': [0.13436424411240122, 0.8474337369372327, 0.763774618976614], 'delta': -0.0005348048046610517, 'output': 0.7105668883115941}]\n",
      "[{'weights': [0.2550690257394217, 0.49543508709194095], 'delta': -0.14619064683582808, 'output': 0.6213859615555266}, {'weights': [0.4494910647887381, 0.651592972722763], 'delta': 0.0771723774346327, 'output': 0.6573693455986976}]\n"
     ]
    }
   ],
   "source": [
    "# test backpropagation of error\n",
    "network = [[{'output': 0.7105668883115941, 'weights': [0.13436424411240122, 0.8474337369372327, 0.763774618976614]}],\n",
    "\t\t[{'output': 0.6213859615555266, 'weights': [0.2550690257394217, 0.49543508709194095]}, {'output': 0.6573693455986976, 'weights': [0.4494910647887381, 0.651592972722763]}]]\n",
    "expected = [0, 1]\n",
    "backward_propagate_error(network, expected)\n",
    "for layer in network:\n",
    "\tprint(layer)"
   ]
  },
  {
   "cell_type": "code",
   "execution_count": null,
   "metadata": {
    "collapsed": true
   },
   "outputs": [],
   "source": []
  }
 ],
 "metadata": {
  "anaconda-cloud": {},
  "kernelspec": {
   "display_name": "Python [conda env:tensorflow1]",
   "language": "python",
   "name": "conda-env-tensorflow1-py"
  },
  "language_info": {
   "codemirror_mode": {
    "name": "ipython",
    "version": 3
   },
   "file_extension": ".py",
   "mimetype": "text/x-python",
   "name": "python",
   "nbconvert_exporter": "python",
   "pygments_lexer": "ipython3",
   "version": "3.5.2"
  }
 },
 "nbformat": 4,
 "nbformat_minor": 0
}
