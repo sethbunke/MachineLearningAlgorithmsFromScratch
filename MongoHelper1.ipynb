{
 "cells": [
  {
   "cell_type": "code",
   "execution_count": null,
   "metadata": {
    "collapsed": true
   },
   "outputs": [],
   "source": []
  },
  {
   "cell_type": "code",
   "execution_count": null,
   "metadata": {
    "collapsed": true
   },
   "outputs": [],
   "source": [
    "class MongoDbHelper:    \n",
    "    def train(self, user_name, password, server):        \n",
    "        self.user_name = user_name\n",
    "        self.passwrod = password\n",
    "        self.server = server        \n",
    "    \n",
    "    def __set_slope(self):\n",
    "        numerator = 0\n",
    "        for i in range(len(self.x)):\n",
    "            numerator += ((self.x[i] - self.x_mean) * (self.y[i] - self.y_mean))\n",
    "\n",
    "        denominator = 0\n",
    "        for i in range(len(self.x)):\n",
    "            denominator += ((self.x[i] - self.x_mean) ** 2)\n",
    "\n",
    "        self.__slope = numerator / denominator\n",
    "        \n",
    "    def __set_intercept(self):\n",
    "        self.__intercept = self.y_mean - (self.__slope * self.x_mean)\n",
    "        \n",
    "    def __predict(self, x):\n",
    "        return (self.__slope * x) + self.__intercept\n",
    "    \n",
    "    def predict(self, x):\n",
    "        return [self.__predict(value) for value in np.array(x)]        \n",
    "    \n",
    "    def rmse(self, predicted_y, actual_y):\n",
    "        import math        \n",
    "        N = len(predicted_y)\n",
    "        sum_squared_error = 0\n",
    "        for i in range(N):\n",
    "            sum_squared_error += ((predicted_y[i] - actual_y[i]) **2)\n",
    "        \n",
    "        return (math.sqrt(sum_squared_error / N))    \n",
    "    \n",
    "    def get_slope(self):        \n",
    "        return self.__slope\n",
    "        \n",
    "    def get_intercept(self):\n",
    "        return self.__intercept"
   ]
  }
 ],
 "metadata": {
  "kernelspec": {
   "display_name": "Python [Root]",
   "language": "python",
   "name": "Python [Root]"
  },
  "language_info": {
   "codemirror_mode": {
    "name": "ipython",
    "version": 2
   },
   "file_extension": ".py",
   "mimetype": "text/x-python",
   "name": "python",
   "nbconvert_exporter": "python",
   "pygments_lexer": "ipython2",
   "version": "2.7.12"
  }
 },
 "nbformat": 4,
 "nbformat_minor": 0
}
