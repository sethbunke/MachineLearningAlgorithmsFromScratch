{
 "cells": [
  {
   "cell_type": "code",
   "execution_count": 56,
   "metadata": {
    "collapsed": true
   },
   "outputs": [],
   "source": [
    "%matplotlib inline\n",
    "import math\n",
    "import matplotlib.pyplot as plt #http://matplotlib.org/users/pyplot_tutorial.html\n",
    "import numpy as np\n",
    "from sklearn.linear_model import LogisticRegression\n",
    "import pandas as pd"
   ]
  },
  {
   "cell_type": "code",
   "execution_count": 57,
   "metadata": {
    "collapsed": true
   },
   "outputs": [],
   "source": [
    "# x = [\n",
    "# [2.7810836, 2.550537003],\n",
    "# [1.465489372, 2.362125076],\n",
    "# [3.396561688, 4.400293529],\n",
    "# [1.38807019, 1.850220317],\n",
    "# [3.06407232, 3.005305973],\n",
    "# [7.627531214, 2.759262235],\n",
    "# [5.332441248, 2.088626775],\n",
    "# [6.922596716, 1.77106367],\n",
    "# [8.675418651, 0.242068655],\n",
    "# [7.673756466, 3.508563011]]\n",
    "\n",
    "y = [0,0,0,0,0,1,1,1,1,1]"
   ]
  },
  {
   "cell_type": "code",
   "execution_count": 58,
   "metadata": {
    "collapsed": true
   },
   "outputs": [],
   "source": [
    "x1 = [2.7810836, 1.465489372,3.396561688, 1.38807019,3.06407232, 7.627531214, 5.332441248,6.922596716, 8.675418651, 7.673756466]"
   ]
  },
  {
   "cell_type": "code",
   "execution_count": 59,
   "metadata": {
    "collapsed": true
   },
   "outputs": [],
   "source": [
    "x2 = [ 2.550537003, 2.362125076, 4.400293529, 1.850220317, 3.00530597, 2.759262235, 2.088626775, 1.77106367,\n",
    "      0.242068655, 3.508563011]"
   ]
  },
  {
   "cell_type": "code",
   "execution_count": 60,
   "metadata": {
    "collapsed": false
   },
   "outputs": [],
   "source": [
    "s = pd.Series(x)\n",
    "df = pd.DataFrame()\n",
    "df['x1'] = x1\n",
    "df['x2'] = x2\n",
    "df['y'] = y\n",
    "#df\n",
    "#df[:5]"
   ]
  },
  {
   "cell_type": "code",
   "execution_count": 61,
   "metadata": {
    "collapsed": false
   },
   "outputs": [
    {
     "data": {
      "text/plain": [
       "0    2.781084\n",
       "1    1.465489\n",
       "2    3.396562\n",
       "3    1.388070\n",
       "4    3.064072\n",
       "Name: x1, dtype: float64"
      ]
     },
     "execution_count": 61,
     "metadata": {},
     "output_type": "execute_result"
    }
   ],
   "source": [
    "df[:5]['x1']"
   ]
  },
  {
   "cell_type": "code",
   "execution_count": 62,
   "metadata": {
    "collapsed": false
   },
   "outputs": [],
   "source": [
    "# x1_0 = [val[0] for val in x][:5]\n",
    "# x1_1 = [val[1] for val in x][:5]\n",
    "\n",
    "# x2_0 = [val[0] for val in x][5:]\n",
    "# x2_1 = [val[1] for val in x][5:]"
   ]
  },
  {
   "cell_type": "code",
   "execution_count": 64,
   "metadata": {
    "collapsed": false
   },
   "outputs": [
    {
     "data": {
      "image/png": "[encoded data removed]",
      "text/plain": [
       "<matplotlib.figure.Figure at 0xaa2e438>"
      ]
     },
     "metadata": {},
     "output_type": "display_data"
    }
   ],
   "source": [
    "plt.plot(df[:5]['x1'], df[:5]['x2'], 'ro')\n",
    "plt.plot(df[5:]['x1'], df[5:]['x2'], 'bo')\n",
    "plt.ylabel('Axis 1')\n",
    "plt.xlabel('Axis 2')\n",
    "plt.axis([0, 10, 0, 10])\n",
    "plt.grid(True)\n",
    "plt.show()"
   ]
  },
  {
   "cell_type": "code",
   "execution_count": null,
   "metadata": {
    "collapsed": true
   },
   "outputs": [],
   "source": []
  }
 ],
 "metadata": {
  "kernelspec": {
   "display_name": "Python 2",
   "language": "python",
   "name": "python2"
  },
  "language_info": {
   "codemirror_mode": {
    "name": "ipython",
    "version": 2
   },
   "file_extension": ".py",
   "mimetype": "text/x-python",
   "name": "python",
   "nbconvert_exporter": "python",
   "pygments_lexer": "ipython2",
   "version": "2.7.12"
  }
 },
 "nbformat": 4,
 "nbformat_minor": 0
}
