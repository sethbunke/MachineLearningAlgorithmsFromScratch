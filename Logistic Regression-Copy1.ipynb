{
 "cells": [
  {
   "cell_type": "code",
   "execution_count": 2,
   "metadata": {
    "collapsed": true
   },
   "outputs": [],
   "source": [
    "%matplotlib inline\n",
    "import math\n",
    "import matplotlib.pyplot as plt #http://matplotlib.org/users/pyplot_tutorial.html\n",
    "import numpy as np\n",
    "from sklearn.linear_model import LogisticRegression\n",
    "from sklearn.linear_model import LinearRegression\n",
    "import pandas as pd"
   ]
  },
  {
   "cell_type": "code",
   "execution_count": 3,
   "metadata": {
    "collapsed": true
   },
   "outputs": [],
   "source": [
    "# x = [\n",
    "# [2.7810836, 2.550537003],\n",
    "# [1.465489372, 2.362125076],\n",
    "# [3.396561688, 4.400293529],\n",
    "# [1.38807019, 1.850220317],\n",
    "# [3.06407232, 3.005305973],\n",
    "# [7.627531214, 2.759262235],\n",
    "# [5.332441248, 2.088626775],\n",
    "# [6.922596716, 1.77106367],\n",
    "# [8.675418651, 0.242068655],\n",
    "# [7.673756466, 3.508563011]]\n",
    "\n",
    "y = [0,0,0,0,0,1,1,1,1,1]"
   ]
  },
  {
   "cell_type": "code",
   "execution_count": 4,
   "metadata": {
    "collapsed": true
   },
   "outputs": [],
   "source": [
    "x1 = [2.7810836, 1.465489372,3.396561688, 1.38807019,3.06407232, 7.627531214, 5.332441248,6.922596716, 8.675418651, 7.673756466]"
   ]
  },
  {
   "cell_type": "code",
   "execution_count": 5,
   "metadata": {
    "collapsed": true
   },
   "outputs": [],
   "source": [
    "x2 = [ 2.550537003, 2.362125076, 4.400293529, 1.850220317, 3.00530597, 2.759262235, 2.088626775, 1.77106367,\n",
    "      0.242068655, 3.508563011]"
   ]
  },
  {
   "cell_type": "code",
   "execution_count": 8,
   "metadata": {
    "collapsed": false
   },
   "outputs": [],
   "source": [
    "#s = pd.Series(x)\n",
    "df = pd.DataFrame()\n",
    "df['x1'] = x1\n",
    "df['x2'] = x2\n",
    "#df['y'] = y\n",
    "#df\n",
    "#df[:5]"
   ]
  },
  {
   "cell_type": "code",
   "execution_count": 9,
   "metadata": {
    "collapsed": false
   },
   "outputs": [
    {
     "data": {
      "text/plain": [
       "0    2.781084\n",
       "1    1.465489\n",
       "2    3.396562\n",
       "3    1.388070\n",
       "4    3.064072\n",
       "Name: x1, dtype: float64"
      ]
     },
     "execution_count": 9,
     "metadata": {},
     "output_type": "execute_result"
    }
   ],
   "source": [
    "df[:5]['x1']"
   ]
  },
  {
   "cell_type": "code",
   "execution_count": 10,
   "metadata": {
    "collapsed": false
   },
   "outputs": [],
   "source": [
    "#df[['x1','x2']]\n",
    "#df[['y']]"
   ]
  },
  {
   "cell_type": "code",
   "execution_count": 11,
   "metadata": {
    "collapsed": false
   },
   "outputs": [],
   "source": [
    "# x1_0 = [val[0] for val in x][:5]\n",
    "# x1_1 = [val[1] for val in x][:5]\n",
    "\n",
    "# x2_0 = [val[0] for val in x][5:]\n",
    "# x2_1 = [val[1] for val in x][5:]"
   ]
  },
  {
   "cell_type": "code",
   "execution_count": 35,
   "metadata": {
    "collapsed": false,
    "scrolled": true
   },
   "outputs": [
    {
     "data": {
      "image/png": "[encoded data removed]",
      "text/plain": [
       "<matplotlib.figure.Figure at 0x11a2c9b10>"
      ]
     },
     "metadata": {},
     "output_type": "display_data"
    }
   ],
   "source": [
    "plt.subplots(figsize=(8, 6))\n",
    "\n",
    "yvals = np.arange(0, 10, 0.01)\n",
    "xvals = np.arange(0, 10, 0.01)\n",
    "#plt.plot(xvals, yvals)\n",
    "\n",
    "x = np.linspace(0, 10, 100)\n",
    "plt.plot(x + 2, 1.3 * x, linestyle='-')\n",
    "\n",
    "plt.plot(df[:5]['x1'], df[:5]['x2'], 'ro', label='Class 0')\n",
    "plt.plot(df[5:]['x1'], df[5:]['x2'], 'bo', label='Class 1')\n",
    "plt.legend(loc='upper center', frameon=True)\n",
    "#leg = plt.legend();\n",
    "plt.ylabel('Axis 1')\n",
    "plt.xlabel('Axis 2')\n",
    "plt.axis([0, 10, 0, 10])\n",
    "plt.grid(True)\n",
    "plt.show()"
   ]
  },
  {
   "cell_type": "code",
   "execution_count": 20,
   "metadata": {
    "collapsed": false
   },
   "outputs": [
    {
     "data": {
      "text/plain": [
       "array([  0.        ,   0.1010101 ,   0.2020202 ,   0.3030303 ,\n",
       "         0.4040404 ,   0.50505051,   0.60606061,   0.70707071,\n",
       "         0.80808081,   0.90909091,   1.01010101,   1.11111111,\n",
       "         1.21212121,   1.31313131,   1.41414141,   1.51515152,\n",
       "         1.61616162,   1.71717172,   1.81818182,   1.91919192,\n",
       "         2.02020202,   2.12121212,   2.22222222,   2.32323232,\n",
       "         2.42424242,   2.52525253,   2.62626263,   2.72727273,\n",
       "         2.82828283,   2.92929293,   3.03030303,   3.13131313,\n",
       "         3.23232323,   3.33333333,   3.43434343,   3.53535354,\n",
       "         3.63636364,   3.73737374,   3.83838384,   3.93939394,\n",
       "         4.04040404,   4.14141414,   4.24242424,   4.34343434,\n",
       "         4.44444444,   4.54545455,   4.64646465,   4.74747475,\n",
       "         4.84848485,   4.94949495,   5.05050505,   5.15151515,\n",
       "         5.25252525,   5.35353535,   5.45454545,   5.55555556,\n",
       "         5.65656566,   5.75757576,   5.85858586,   5.95959596,\n",
       "         6.06060606,   6.16161616,   6.26262626,   6.36363636,\n",
       "         6.46464646,   6.56565657,   6.66666667,   6.76767677,\n",
       "         6.86868687,   6.96969697,   7.07070707,   7.17171717,\n",
       "         7.27272727,   7.37373737,   7.47474747,   7.57575758,\n",
       "         7.67676768,   7.77777778,   7.87878788,   7.97979798,\n",
       "         8.08080808,   8.18181818,   8.28282828,   8.38383838,\n",
       "         8.48484848,   8.58585859,   8.68686869,   8.78787879,\n",
       "         8.88888889,   8.98989899,   9.09090909,   9.19191919,\n",
       "         9.29292929,   9.39393939,   9.49494949,   9.5959596 ,\n",
       "         9.6969697 ,   9.7979798 ,   9.8989899 ,  10.        ])"
      ]
     },
     "execution_count": 20,
     "metadata": {},
     "output_type": "execute_result"
    }
   ],
   "source": [
    "x"
   ]
  },
  {
   "cell_type": "code",
   "execution_count": 16,
   "metadata": {
    "collapsed": false
   },
   "outputs": [
    {
     "data": {
      "image/png": "[encoded data removed]",
      "text/plain": [
       "<matplotlib.figure.Figure at 0x1171a4b10>"
      ]
     },
     "metadata": {},
     "output_type": "display_data"
    }
   ],
   "source": [
    "plt.plot(x, x + 0, linestyle='solid')\n",
    "plt.plot(x, x + 1, linestyle='dashed')\n",
    "plt.plot(x, x + 2, linestyle='dashdot')\n",
    "plt.plot(x, x + 3, linestyle='dotted');\n",
    "\n",
    "# For short, you can use the following codes:\n",
    "plt.plot(x, x + 4, linestyle='-')  # solid\n",
    "plt.plot(x, x + 5, linestyle='--') # dashed\n",
    "plt.plot(x, x + 6, linestyle='-.') # dashdot\n",
    "plt.plot(x, x + 7, linestyle=':');  # dotted"
   ]
  },
  {
   "cell_type": "code",
   "execution_count": null,
   "metadata": {
    "collapsed": true
   },
   "outputs": [],
   "source": []
  },
  {
   "cell_type": "code",
   "execution_count": null,
   "metadata": {
    "collapsed": false
   },
   "outputs": [],
   "source": [
    "clf = LogisticRegression()\n",
    "clf.fit(df,y)\n",
    "#probs = clf.predict_proba(grid) #[:, 1].reshape(xx.shape)"
   ]
  },
  {
   "cell_type": "code",
   "execution_count": null,
   "metadata": {
    "collapsed": false
   },
   "outputs": [],
   "source": [
    "result = clf.predict([2,2])\n",
    "result[0]"
   ]
  },
  {
   "cell_type": "code",
   "execution_count": null,
   "metadata": {
    "collapsed": false
   },
   "outputs": [],
   "source": [
    "#grid = np.c_[np.array(x).ravel(), np.array(y).ravel()]\n",
    "#probs = clf.predict_proba(grid)[:, 1].reshape(xx.shape)"
   ]
  },
  {
   "cell_type": "code",
   "execution_count": null,
   "metadata": {
    "collapsed": false
   },
   "outputs": [],
   "source": [
    "np.array(x1)"
   ]
  },
  {
   "cell_type": "code",
   "execution_count": null,
   "metadata": {
    "collapsed": false
   },
   "outputs": [],
   "source": [
    "clf.intercept_"
   ]
  },
  {
   "cell_type": "code",
   "execution_count": null,
   "metadata": {
    "collapsed": false
   },
   "outputs": [],
   "source": [
    "clf.coef_"
   ]
  },
  {
   "cell_type": "raw",
   "metadata": {},
   "source": []
  },
  {
   "cell_type": "code",
   "execution_count": null,
   "metadata": {
    "collapsed": true
   },
   "outputs": [],
   "source": []
  }
 ],
 "metadata": {
  "kernelspec": {
   "display_name": "Python 2",
   "language": "python",
   "name": "python2"
  },
  "language_info": {
   "codemirror_mode": {
    "name": "ipython",
    "version": 2
   },
   "file_extension": ".py",
   "mimetype": "text/x-python",
   "name": "python",
   "nbconvert_exporter": "python",
   "pygments_lexer": "ipython2",
   "version": "2.7.11"
  }
 },
 "nbformat": 4,
 "nbformat_minor": 0
}
