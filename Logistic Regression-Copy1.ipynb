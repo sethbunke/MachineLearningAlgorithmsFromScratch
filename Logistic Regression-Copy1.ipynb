{
 "cells": [
  {
   "cell_type": "code",
   "execution_count": 2,
   "metadata": {
    "collapsed": true
   },
   "outputs": [],
   "source": [
    "%matplotlib inline\n",
    "import math\n",
    "import matplotlib.pyplot as plt #http://matplotlib.org/users/pyplot_tutorial.html\n",
    "import numpy as np\n",
    "from sklearn.linear_model import LogisticRegression\n",
    "from sklearn.linear_model import LinearRegression\n",
    "import pandas as pd"
   ]
  },
  {
   "cell_type": "code",
   "execution_count": 3,
   "metadata": {
    "collapsed": true
   },
   "outputs": [],
   "source": [
    "# x = [\n",
    "# [2.7810836, 2.550537003],\n",
    "# [1.465489372, 2.362125076],\n",
    "# [3.396561688, 4.400293529],\n",
    "# [1.38807019, 1.850220317],\n",
    "# [3.06407232, 3.005305973],\n",
    "# [7.627531214, 2.759262235],\n",
    "# [5.332441248, 2.088626775],\n",
    "# [6.922596716, 1.77106367],\n",
    "# [8.675418651, 0.242068655],\n",
    "# [7.673756466, 3.508563011]]\n",
    "\n",
    "y = [0,0,0,0,0,1,1,1,1,1]"
   ]
  },
  {
   "cell_type": "code",
   "execution_count": 4,
   "metadata": {
    "collapsed": true
   },
   "outputs": [],
   "source": [
    "x1 = [2.7810836, 1.465489372,3.396561688, 1.38807019,3.06407232, 7.627531214, 5.332441248,6.922596716, 8.675418651, 7.673756466]"
   ]
  },
  {
   "cell_type": "code",
   "execution_count": 5,
   "metadata": {
    "collapsed": true
   },
   "outputs": [],
   "source": [
    "x2 = [ 2.550537003, 2.362125076, 4.400293529, 1.850220317, 3.00530597, 2.759262235, 2.088626775, 1.77106367,\n",
    "      0.242068655, 3.508563011]"
   ]
  },
  {
   "cell_type": "code",
<<<<<<< HEAD
   "execution_count": 8,
=======
   "execution_count": 7,
>>>>>>> d1f6e97564b614e5f7c1fbba34f5f420a981a09a
   "metadata": {
    "collapsed": false
   },
   "outputs": [],
   "source": [
    "#s = pd.Series(x)\n",
    "df = pd.DataFrame()\n",
    "df['x1'] = x1\n",
    "df['x2'] = x2\n",
    "#df['y'] = y\n",
    "#df\n",
    "#df[:5]"
   ]
  },
  {
   "cell_type": "code",
<<<<<<< HEAD
   "execution_count": 9,
=======
   "execution_count": 8,
>>>>>>> d1f6e97564b614e5f7c1fbba34f5f420a981a09a
   "metadata": {
    "collapsed": false
   },
   "outputs": [
    {
     "data": {
      "text/plain": [
       "0    2.781084\n",
       "1    1.465489\n",
       "2    3.396562\n",
       "3    1.388070\n",
       "4    3.064072\n",
       "Name: x1, dtype: float64"
      ]
     },
<<<<<<< HEAD
     "execution_count": 9,
=======
     "execution_count": 8,
>>>>>>> d1f6e97564b614e5f7c1fbba34f5f420a981a09a
     "metadata": {},
     "output_type": "execute_result"
    }
   ],
   "source": [
    "df[:5]['x1']"
   ]
  },
  {
   "cell_type": "code",
<<<<<<< HEAD
   "execution_count": 10,
=======
   "execution_count": 9,
>>>>>>> d1f6e97564b614e5f7c1fbba34f5f420a981a09a
   "metadata": {
    "collapsed": false
   },
   "outputs": [],
   "source": [
    "#df[['x1','x2']]\n",
    "#df[['y']]"
   ]
  },
  {
   "cell_type": "code",
<<<<<<< HEAD
   "execution_count": 11,
=======
   "execution_count": 10,
>>>>>>> d1f6e97564b614e5f7c1fbba34f5f420a981a09a
   "metadata": {
    "collapsed": false
   },
   "outputs": [],
   "source": [
    "# x1_0 = [val[0] for val in x][:5]\n",
    "# x1_1 = [val[1] for val in x][:5]\n",
    "\n",
    "# x2_0 = [val[0] for val in x][5:]\n",
    "# x2_1 = [val[1] for val in x][5:]"
   ]
  },
  {
   "cell_type": "code",
<<<<<<< HEAD
   "execution_count": 35,
=======
   "execution_count": 11,
>>>>>>> d1f6e97564b614e5f7c1fbba34f5f420a981a09a
   "metadata": {
    "collapsed": false,
    "scrolled": true
   },
   "outputs": [
    {
     "data": {
      "image/png": "iVBORw0KGgoAAAANSUhEUgAAAfIAAAF/CAYAAACyv0vWAAAABHNCSVQICAgIfAhkiAAAAAlwSFlz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\nIiIhpkIuIiISYirkIiIiIfb/Af+XSDBiOoD1AAAAAElFTkSuQmCC\n",
      "text/plain": [
<<<<<<< HEAD
       "<matplotlib.figure.Figure at 0x11a2c9b10>"
=======
       "<matplotlib.figure.Figure at 0x9fbf080>"
>>>>>>> d1f6e97564b614e5f7c1fbba34f5f420a981a09a
      ]
     },
     "metadata": {},
     "output_type": "display_data"
    }
   ],
   "source": [
    "plt.subplots(figsize=(8, 6))\n",
    "\n",
    "yvals = np.arange(0, 10, 0.01)\n",
    "xvals = np.arange(0, 10, 0.01)\n",
    "#plt.plot(xvals, yvals)\n",
    "\n",
    "x = np.linspace(0, 10, 100)\n",
    "plt.plot(x + 2, 1.3 * x, linestyle='-')\n",
    "\n",
    "plt.plot(df[:5]['x1'], df[:5]['x2'], 'ro', label='Class 0')\n",
    "plt.plot(df[5:]['x1'], df[5:]['x2'], 'bo', label='Class 1')\n",
    "plt.legend(loc='upper center', frameon=True)\n",
    "#leg = plt.legend();\n",
    "plt.ylabel('Axis 1')\n",
    "plt.xlabel('Axis 2')\n",
    "plt.axis([0, 10, 0, 10])\n",
    "plt.grid(True)\n",
    "plt.show()"
   ]
  },
  {
   "cell_type": "code",
<<<<<<< HEAD
   "execution_count": 20,
=======
   "execution_count": 13,
   "metadata": {
    "collapsed": false
   },
   "outputs": [
    {
     "data": {
      "image/png": "iVBORw0KGgoAAAANSUhEUgAAAXQAAAEACAYAAACj0I2EAAAABHNCSVQICAgIfAhkiAAAAAlwSFlz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\no4pSAAAAAElFTkSuQmCC\n",
      "text/plain": [
       "<matplotlib.figure.Figure at 0x9e20550>"
      ]
     },
     "metadata": {},
     "output_type": "display_data"
    }
   ],
   "source": [
    "plt.plot(x, x + 0, linestyle='solid')\n",
    "plt.plot(x, x + 1, linestyle='dashed')\n",
    "plt.plot(x, x + 2, linestyle='dashdot')\n",
    "plt.plot(x, x + 3, linestyle='dotted');\n",
    "\n",
    "# For short, you can use the following codes:\n",
    "plt.plot(x, x + 4, linestyle='-')  # solid\n",
    "plt.plot(x, x + 5, linestyle='--') # dashed\n",
    "plt.plot(x, x + 6, linestyle='-.') # dashdot\n",
    "plt.plot(x, x + 7, linestyle=':');  # dotted"
   ]
  },
  {
   "cell_type": "code",
   "execution_count": 15,
>>>>>>> d1f6e97564b614e5f7c1fbba34f5f420a981a09a
   "metadata": {
    "collapsed": false
   },
   "outputs": [
    {
     "data": {
      "text/plain": [
       "array([  0.        ,   0.1010101 ,   0.2020202 ,   0.3030303 ,\n",
       "         0.4040404 ,   0.50505051,   0.60606061,   0.70707071,\n",
       "         0.80808081,   0.90909091,   1.01010101,   1.11111111,\n",
       "         1.21212121,   1.31313131,   1.41414141,   1.51515152,\n",
       "         1.61616162,   1.71717172,   1.81818182,   1.91919192,\n",
       "         2.02020202,   2.12121212,   2.22222222,   2.32323232,\n",
       "         2.42424242,   2.52525253,   2.62626263,   2.72727273,\n",
       "         2.82828283,   2.92929293,   3.03030303,   3.13131313,\n",
       "         3.23232323,   3.33333333,   3.43434343,   3.53535354,\n",
       "         3.63636364,   3.73737374,   3.83838384,   3.93939394,\n",
       "         4.04040404,   4.14141414,   4.24242424,   4.34343434,\n",
       "         4.44444444,   4.54545455,   4.64646465,   4.74747475,\n",
       "         4.84848485,   4.94949495,   5.05050505,   5.15151515,\n",
       "         5.25252525,   5.35353535,   5.45454545,   5.55555556,\n",
       "         5.65656566,   5.75757576,   5.85858586,   5.95959596,\n",
       "         6.06060606,   6.16161616,   6.26262626,   6.36363636,\n",
       "         6.46464646,   6.56565657,   6.66666667,   6.76767677,\n",
       "         6.86868687,   6.96969697,   7.07070707,   7.17171717,\n",
       "         7.27272727,   7.37373737,   7.47474747,   7.57575758,\n",
       "         7.67676768,   7.77777778,   7.87878788,   7.97979798,\n",
       "         8.08080808,   8.18181818,   8.28282828,   8.38383838,\n",
       "         8.48484848,   8.58585859,   8.68686869,   8.78787879,\n",
       "         8.88888889,   8.98989899,   9.09090909,   9.19191919,\n",
       "         9.29292929,   9.39393939,   9.49494949,   9.5959596 ,\n",
       "         9.6969697 ,   9.7979798 ,   9.8989899 ,  10.        ])"
      ]
     },
<<<<<<< HEAD
     "execution_count": 20,
=======
     "execution_count": 15,
>>>>>>> d1f6e97564b614e5f7c1fbba34f5f420a981a09a
     "metadata": {},
     "output_type": "execute_result"
    }
   ],
   "source": [
    "x"
   ]
  },
  {
   "cell_type": "code",
   "execution_count": 16,
   "metadata": {
    "collapsed": false
   },
   "outputs": [
    {
     "data": {
      "image/png": "iVBORw0KGgoAAAANSUhEUgAAAXQAAAEACAYAAACj0I2EAAAABHNCSVQICAgIfAhkiAAAAAlwSFlz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\nRK5CYII=\n",
      "text/plain": [
       "<matplotlib.figure.Figure at 0x1171a4b10>"
      ]
     },
<<<<<<< HEAD
=======
     "execution_count": 16,
>>>>>>> d1f6e97564b614e5f7c1fbba34f5f420a981a09a
     "metadata": {},
     "output_type": "display_data"
    }
   ],
   "source": [
    "plt.plot(x, x + 0, linestyle='solid')\n",
    "plt.plot(x, x + 1, linestyle='dashed')\n",
    "plt.plot(x, x + 2, linestyle='dashdot')\n",
    "plt.plot(x, x + 3, linestyle='dotted');\n",
    "\n",
    "# For short, you can use the following codes:\n",
    "plt.plot(x, x + 4, linestyle='-')  # solid\n",
    "plt.plot(x, x + 5, linestyle='--') # dashed\n",
    "plt.plot(x, x + 6, linestyle='-.') # dashdot\n",
    "plt.plot(x, x + 7, linestyle=':');  # dotted"
   ]
  },
  {
   "cell_type": "code",
   "execution_count": null,
   "metadata": {
    "collapsed": true
   },
   "outputs": [],
   "source": []
  },
  {
   "cell_type": "code",
   "execution_count": null,
   "metadata": {
    "collapsed": false
   },
   "outputs": [],
   "source": [
    "clf = LogisticRegression()\n",
    "clf.fit(df,y)\n",
    "#probs = clf.predict_proba(grid) #[:, 1].reshape(xx.shape)"
   ]
  },
  {
   "cell_type": "code",
   "execution_count": null,
   "metadata": {
    "collapsed": false
   },
   "outputs": [],
   "source": [
    "result = clf.predict([2,2])\n",
    "result[0]"
   ]
  },
  {
   "cell_type": "code",
<<<<<<< HEAD
   "execution_count": null,
=======
   "execution_count": 17,
>>>>>>> d1f6e97564b614e5f7c1fbba34f5f420a981a09a
   "metadata": {
    "collapsed": false
   },
   "outputs": [],
   "source": [
    "#grid = np.c_[np.array(x).ravel(), np.array(y).ravel()]\n",
    "#probs = clf.predict_proba(grid)[:, 1].reshape(xx.shape)"
   ]
  },
  {
   "cell_type": "code",
<<<<<<< HEAD
   "execution_count": null,
   "metadata": {
    "collapsed": false
   },
   "outputs": [],
=======
   "execution_count": 18,
   "metadata": {
    "collapsed": false
   },
   "outputs": [
    {
     "data": {
      "text/plain": [
       "array([ 2.7810836 ,  1.46548937,  3.39656169,  1.38807019,  3.06407232,\n",
       "        7.62753121,  5.33244125,  6.92259672,  8.67541865,  7.67375647])"
      ]
     },
     "execution_count": 18,
     "metadata": {},
     "output_type": "execute_result"
    }
   ],
>>>>>>> d1f6e97564b614e5f7c1fbba34f5f420a981a09a
   "source": [
    "np.array(x1)"
   ]
  },
  {
   "cell_type": "code",
<<<<<<< HEAD
   "execution_count": null,
   "metadata": {
    "collapsed": false
   },
   "outputs": [],
=======
   "execution_count": 19,
   "metadata": {
    "collapsed": false
   },
   "outputs": [
    {
     "data": {
      "text/plain": [
       "array([-0.43092012])"
      ]
     },
     "execution_count": 19,
     "metadata": {},
     "output_type": "execute_result"
    }
   ],
>>>>>>> d1f6e97564b614e5f7c1fbba34f5f420a981a09a
   "source": [
    "clf.intercept_"
   ]
  },
  {
   "cell_type": "code",
<<<<<<< HEAD
   "execution_count": null,
   "metadata": {
    "collapsed": false
   },
   "outputs": [],
=======
   "execution_count": 20,
   "metadata": {
    "collapsed": false
   },
   "outputs": [
    {
     "data": {
      "text/plain": [
       "array([[ 0.80574364, -1.12333339]])"
      ]
     },
     "execution_count": 20,
     "metadata": {},
     "output_type": "execute_result"
    }
   ],
>>>>>>> d1f6e97564b614e5f7c1fbba34f5f420a981a09a
   "source": [
    "clf.coef_"
   ]
  },
  {
   "cell_type": "raw",
   "metadata": {},
   "source": []
  },
  {
   "cell_type": "code",
   "execution_count": null,
   "metadata": {
    "collapsed": true
   },
   "outputs": [],
   "source": []
  }
 ],
 "metadata": {
  "kernelspec": {
   "display_name": "Python 2",
   "language": "python",
   "name": "python2"
  },
  "language_info": {
   "codemirror_mode": {
    "name": "ipython",
    "version": 2
   },
   "file_extension": ".py",
   "mimetype": "text/x-python",
   "name": "python",
   "nbconvert_exporter": "python",
   "pygments_lexer": "ipython2",
   "version": "2.7.11"
  }
 },
 "nbformat": 4,
 "nbformat_minor": 0
}
