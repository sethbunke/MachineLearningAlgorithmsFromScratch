{
 "cells": [
  {
   "cell_type": "code",
   "execution_count": 112,
   "metadata": {
    "collapsed": true
   },
   "outputs": [],
   "source": [
    "%matplotlib inline\n",
    "import matplotlib.pyplot as plt #http://matplotlib.org/users/pyplot_tutorial.html\n",
    "import numpy as np"
   ]
  },
  {
   "cell_type": "code",
   "execution_count": 113,
   "metadata": {
    "collapsed": true
   },
   "outputs": [],
   "source": [
    "# calculate coefficients\n",
    "dataset = [[1, 1], [2, 3], [4, 3], [3, 2], [5, 5]] "
   ]
  },
  {
   "cell_type": "code",
   "execution_count": 114,
   "metadata": {
    "collapsed": true
   },
   "outputs": [],
   "source": [
    "from itertools import chain"
   ]
  },
  {
   "cell_type": "code",
   "execution_count": null,
   "metadata": {
    "collapsed": true
   },
   "outputs": [],
   "source": []
  },
  {
   "cell_type": "code",
   "execution_count": 115,
   "metadata": {
    "collapsed": false
   },
   "outputs": [
    {
     "name": "stdout",
     "output_type": "stream",
     "text": [
      "[1, 2, 4, 3, 5]\n",
      "[1, 3, 3, 2, 5]\n"
     ]
    }
   ],
   "source": [
    "x = list(item[0] for item in dataset)\n",
    "y = list(item[1] for item in dataset)\n",
    "\n",
    "print(x)\n",
    "print(y)"
   ]
  },
  {
   "cell_type": "code",
   "execution_count": 116,
   "metadata": {
    "collapsed": false
   },
   "outputs": [
    {
     "name": "stdout",
     "output_type": "stream",
     "text": [
      "Coefficients: B0=0.400, B1=0.800\n"
     ]
    }
   ],
   "source": [
    "# Example of Calculating Coefficients\n",
    "# Calculate the mean value of a list of numbers\n",
    "def mean(values):\n",
    "  return sum(values) / float(len(values))\n",
    "# Calculate covariance between x and y\n",
    "def covariance(x, mean_x, y, mean_y):\n",
    "  covar = 0.0\n",
    "  for i in range(len(x)):\n",
    "    covar += (x[i] - mean_x) * (y[i] - mean_y)\n",
    "  return covar\n",
    "# Calculate the variance of a list of numbers\n",
    "def variance(values, mean):\n",
    "  return sum([(x-mean)**2 for x in values])\n",
    "# Calculate coefficients\n",
    "def coefficients(dataset):\n",
    "  x = [row[0] for row in dataset]\n",
    "  y = [row[1] for row in dataset]\n",
    "  x_mean, y_mean = mean(x), mean(y)\n",
    "  b1 = covariance(x, x_mean, y, y_mean) / variance(x, x_mean)\n",
    "  b0 = y_mean - b1 * x_mean\n",
    "  return [b0, b1]\n",
    "\n",
    "#b0 is the intercept\n",
    "b0, b1 = coefficients(dataset) \n",
    "print('Coefficients: B0=%.3f, B1=%.3f' % (b0, b1)) \n"
   ]
  },
  {
   "cell_type": "code",
   "execution_count": null,
   "metadata": {
    "collapsed": true
   },
   "outputs": [],
   "source": []
  },
  {
   "cell_type": "code",
   "execution_count": 117,
   "metadata": {
    "collapsed": true
   },
   "outputs": [],
   "source": [
    "#http://radek.io/2011/07/21/private-protected-and-public-in-python/\n",
    "import numpy as np\n",
    "class SimpleLinearRegression:    \n",
    "    def train(self, x, y):        \n",
    "        self.x = np.array(x)\n",
    "        self.y = np.array(y)\n",
    "        self.x_mean = self.x.mean()\n",
    "        self.y_mean = self.y.mean()\n",
    "        self.__set_slope()\n",
    "        self.__set_intercept()\n",
    "    \n",
    "    def __set_slope(self):\n",
    "        numerator = 0\n",
    "        for i in range(len(self.x)):\n",
    "            numerator += ((self.x[i] - self.x_mean) * (self.y[i] - self.y_mean))\n",
    "\n",
    "        denominator = 0\n",
    "        for i in range(len(self.x)):\n",
    "            denominator += ((self.x[i] - self.x_mean) ** 2)\n",
    "\n",
    "        self.__slope = numerator / denominator\n",
    "        \n",
    "    def __set_intercept(self):\n",
    "        self.__intercept = self.y_mean - (self.__slope * self.x_mean)\n",
    "        \n",
    "    def __predict(self, x):\n",
    "        return (self.__slope * x) + self.__intercept\n",
    "    \n",
    "    def predict(self, x):\n",
    "        return [self.__predict(value) for value in np.array(x)]        \n",
    "    \n",
    "    def rmse(self, predicted_y, actual_y):\n",
    "        import math        \n",
    "        N = len(predicted_y)\n",
    "        sum_squared_error = 0\n",
    "        for i in range(N):\n",
    "            sum_squared_error += ((predicted_y[i] - actual_y[i]) **2)\n",
    "        \n",
    "        return (math.sqrt(sum_squared_error / N))    \n",
    "    \n",
    "    def get_slope(self):        \n",
    "        return self.__slope\n",
    "        \n",
    "    def get_intercept(self):\n",
    "        return self.__intercept"
   ]
  },
  {
   "cell_type": "code",
   "execution_count": null,
   "metadata": {
    "collapsed": true
   },
   "outputs": [],
   "source": []
  },
  {
   "cell_type": "code",
   "execution_count": 118,
   "metadata": {
    "collapsed": false
   },
   "outputs": [],
   "source": [
    "t = SimpleLinearRegression()\n",
    "t.train(x,y)"
   ]
  },
  {
   "cell_type": "code",
   "execution_count": 119,
   "metadata": {
    "collapsed": false
   },
   "outputs": [],
   "source": [
    "sl = t.get_slope()"
   ]
  },
  {
   "cell_type": "code",
   "execution_count": 120,
   "metadata": {
    "collapsed": false
   },
   "outputs": [],
   "source": [
    "inter = t.get_intercept()"
   ]
  },
  {
   "cell_type": "code",
   "execution_count": 121,
   "metadata": {
    "collapsed": false
   },
   "outputs": [
    {
     "name": "stdout",
     "output_type": "stream",
     "text": [
      "Coefficients: Slope = 0.800, Intercept = 0.400\n"
     ]
    }
   ],
   "source": [
    "print('Coefficients: Slope = %.3f, Intercept = %.3f' % (sl, inter)) "
   ]
  },
  {
   "cell_type": "code",
   "execution_count": 122,
   "metadata": {
    "collapsed": false
   },
   "outputs": [
    {
     "name": "stdout",
     "output_type": "stream",
     "text": [
      "[1, 2, 4, 3, 5]\n",
      "[1, 3, 3, 2, 5]\n"
     ]
    }
   ],
   "source": [
    "print(x)\n",
    "print(y)"
   ]
  },
  {
   "cell_type": "code",
   "execution_count": 146,
   "metadata": {
    "collapsed": false
   },
   "outputs": [
    {
     "name": "stdout",
     "output_type": "stream",
     "text": [
      "2 and 3\n"
     ]
    },
    {
     "data": {
      "image/png": "[encoded data removed]",
      "text/plain": [
       "<matplotlib.figure.Figure at 0x1100c5910>"
      ]
     },
     "metadata": {},
     "output_type": "display_data"
    },
    {
     "name": "stdout",
     "output_type": "stream",
     "text": [
      "[  0.           0.1010101    0.2020202    0.3030303    0.4040404\n",
      "   0.50505051   0.60606061   0.70707071   0.80808081   0.90909091\n",
      "   1.01010101   1.11111111   1.21212121   1.31313131   1.41414141\n",
      "   1.51515152   1.61616162   1.71717172   1.81818182   1.91919192\n",
      "   2.02020202   2.12121212   2.22222222   2.32323232   2.42424242\n",
      "   2.52525253   2.62626263   2.72727273   2.82828283   2.92929293\n",
      "   3.03030303   3.13131313   3.23232323   3.33333333   3.43434343\n",
      "   3.53535354   3.63636364   3.73737374   3.83838384   3.93939394\n",
      "   4.04040404   4.14141414   4.24242424   4.34343434   4.44444444\n",
      "   4.54545455   4.64646465   4.74747475   4.84848485   4.94949495\n",
      "   5.05050505   5.15151515   5.25252525   5.35353535   5.45454545\n",
      "   5.55555556   5.65656566   5.75757576   5.85858586   5.95959596\n",
      "   6.06060606   6.16161616   6.26262626   6.36363636   6.46464646\n",
      "   6.56565657   6.66666667   6.76767677   6.86868687   6.96969697\n",
      "   7.07070707   7.17171717   7.27272727   7.37373737   7.47474747\n",
      "   7.57575758   7.67676768   7.77777778   7.87878788   7.97979798\n",
      "   8.08080808   8.18181818   8.28282828   8.38383838   8.48484848\n",
      "   8.58585859   8.68686869   8.78787879   8.88888889   8.98989899\n",
      "   9.09090909   9.19191919   9.29292929   9.39393939   9.49494949\n",
      "   9.5959596    9.6969697    9.7979798    9.8989899   10.        ]\n"
     ]
    }
   ],
   "source": [
    "plt.subplots(figsize=(8, 6))\n",
    "\n",
    "yvals = np.arange(0, 10, 0.01)\n",
    "xvals = np.arange(0, 10, 0.01)\n",
    "#plt.plot(xvals, yvals)\n",
    "\n",
    "x_0 = 0\n",
    "y_0 = 0\n",
    "\n",
    "x_1 = 5000\n",
    "#y_1 = sl * x_1 + inter #sl * (x_1 - x_0) + y_0\n",
    "y_1 = sl * (x_1 - x_0) + y_0\n",
    "\n",
    "# [x_0, x_1], [y_0, y_1]\n",
    "plt.plot([x_0, x_1], [y_0, y_1], c='r') \n",
    "\n",
    "\n",
    "line_x = np.linspace(0, 10, 100)\n",
    "#plt.plot(line_x + 2, 1.3 * line_x, linestyle='-')\n",
    "#plt.plot([0,0], [10,10], c='r')    \n",
    "\n",
    "print(str(x[1]) + ' and ' + str(y[1]))\n",
    "\n",
    "plt.plot(x, y, 'ro', label='Class 0')\n",
    "#plt.plot(df[5:]['x1'], df[5:]['x2'], 'bo', label='Class 1')\n",
    "#plt.legend(loc='upper center', frameon=True)\n",
    "#leg = plt.legend();\n",
    "plt.ylabel('Y')\n",
    "plt.xlabel('X')\n",
    "plt.axis([0, 10, 0, 10])\n",
    "plt.grid(True)\n",
    "plt.show()\n",
    "print(line_x)"
   ]
  },
  {
   "cell_type": "code",
   "execution_count": 135,
   "metadata": {
    "collapsed": false
   },
   "outputs": [
    {
     "data": {
      "text/plain": [
       "[8.3999999999999986]"
      ]
     },
     "execution_count": 135,
     "metadata": {},
     "output_type": "execute_result"
    }
   ],
   "source": [
    "t.predict([10])"
   ]
  },
  {
   "cell_type": "code",
   "execution_count": null,
   "metadata": {
    "collapsed": true
   },
   "outputs": [],
   "source": []
  }
 ],
 "metadata": {
  "kernelspec": {
   "display_name": "Python 2",
   "language": "python",
   "name": "python2"
  },
  "language_info": {
   "codemirror_mode": {
    "name": "ipython",
    "version": 2
   },
   "file_extension": ".py",
   "mimetype": "text/x-python",
   "name": "python",
   "nbconvert_exporter": "python",
   "pygments_lexer": "ipython2",
   "version": "2.7.11"
  }
 },
 "nbformat": 4,
 "nbformat_minor": 0
}
