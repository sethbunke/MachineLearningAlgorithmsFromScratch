{
 "cells": [
  {
   "cell_type": "code",
   "execution_count": 2,
   "metadata": {
    "collapsed": true
   },
   "outputs": [],
   "source": [
    "%matplotlib inline\n",
    "import math\n",
    "import matplotlib.pyplot as plt #http://matplotlib.org/users/pyplot_tutorial.html\n",
    "import numpy as np"
   ]
  },
  {
   "cell_type": "code",
   "execution_count": 44,
   "metadata": {
    "collapsed": true
   },
   "outputs": [],
   "source": [
    "x = [\n",
    "[2.7810836, 2.550537003],\n",
    "[1.465489372, 2.362125076],\n",
    "[3.396561688, 4.400293529],\n",
    "[1.38807019, 1.850220317],\n",
    "[3.06407232, 3.005305973],\n",
    "[7.627531214, 2.759262235],\n",
    "[5.332441248, 2.088626775],\n",
    "[6.922596716, 1.77106367],\n",
    "[8.675418651, -0.242068655],\n",
    "[7.673756466, 3.508563011]]\n",
    "\n",
    "y = [0,0,0,0,0,1,1,1,1,1]"
   ]
  },
  {
   "cell_type": "code",
   "execution_count": 45,
   "metadata": {
    "collapsed": false
   },
   "outputs": [
    {
     "name": "stdout",
     "output_type": "stream",
     "text": [
      "[2.7810836, 1.465489372, 3.396561688, 1.38807019, 3.06407232]\n",
      "[2.550537003, 2.362125076, 4.400293529, 1.850220317, 3.005305973]\n"
     ]
    }
   ],
   "source": [
    "x1_0 = [val[0] for val in x][:5]\n",
    "x2_0 = [val[1] for val in x][:5]\n",
    "\n",
    "x1_1 = [val[0] for val in x][5:]\n",
    "x2_1 = [val[1] for val in x][5:]"
   ]
  },
  {
   "cell_type": "code",
   "execution_count": 46,
   "metadata": {
    "collapsed": false
   },
   "outputs": [
    {
     "data": {
      "image/png": "[encoded data removed]",
      "text/plain": [
       "<matplotlib.figure.Figure at 0x79f41d0>"
      ]
     },
     "metadata": {},
     "output_type": "display_data"
    }
   ],
   "source": [
    "plt.plot(x1_0, x2_0, 'ro')\n",
    "plt.plot(x1_1, x2_1, 'bo')\n",
    "plt.ylabel('X1 - Axis')\n",
    "plt.xlabel('X2 - Axis')\n",
    "plt.axis([0, 10, -1, 10])\n",
    "plt.grid(True)\n",
    "plt.show()"
   ]
  },
  {
   "cell_type": "code",
   "execution_count": null,
   "metadata": {
    "collapsed": true
   },
   "outputs": [],
   "source": []
  }
 ],
 "metadata": {
  "kernelspec": {
   "display_name": "Python 2",
   "language": "python",
   "name": "python2"
  },
  "language_info": {
   "codemirror_mode": {
    "name": "ipython",
    "version": 2
   },
   "file_extension": ".py",
   "mimetype": "text/x-python",
   "name": "python",
   "nbconvert_exporter": "python",
   "pygments_lexer": "ipython2",
   "version": "2.7.11"
  }
 },
 "nbformat": 4,
 "nbformat_minor": 0
}
