{
 "cells": [
  {
   "cell_type": "code",
   "execution_count": 78,
   "metadata": {
    "collapsed": false
   },
   "outputs": [],
   "source": [
    "from sklearn.ensemble import RandomForestClassifier as RF\n",
    "from sklearn import cross_validation\n",
    "import numpy as np\n",
    "\n",
    "X = np.array([[5,5,5,5],[10,10,10,10],[1,1,1,1],[6,6,6,6],[13,13,13,13],[2,2,2,2]])\n",
    "y = np.array([0,2,1,2,1,2])"
   ]
  },
  {
   "cell_type": "code",
   "execution_count": 79,
   "metadata": {
    "collapsed": true
   },
   "outputs": [],
   "source": [
    "X_train, X_test, y_train, y_test = cross_validation.train_test_split(X, y, test_size=0.5, random_state=0)"
   ]
  },
  {
   "cell_type": "code",
   "execution_count": 100,
   "metadata": {
    "collapsed": false
   },
   "outputs": [
    {
     "name": "stdout",
     "output_type": "stream",
     "text": [
      "3\n",
      "[[ 0.7  0.   0.3]\n",
      " [ 0.7  0.   0.3]\n",
      " [ 0.   0.6  0.4]]\n",
      "[0 1 2]\n"
     ]
    }
   ],
   "source": [
    "#http://stats.stackexchange.com/questions/179977/scikit-predict-proba-output-interpretation\n",
    "clf = RF()\n",
    "clf.fit(X_train,y_train)\n",
    "classes = clf.classes_\n",
    "pred_pro = clf.predict_proba(X_test)\n",
    "print len(X_test)\n",
    "print pred_pro\n",
    "#show the order of the classes in the predicted probability\n",
    "print classes"
   ]
  }
 ],
 "metadata": {
  "kernelspec": {
   "display_name": "Python 2",
   "language": "python",
   "name": "python2"
  },
  "language_info": {
   "codemirror_mode": {
    "name": "ipython",
    "version": 2
   },
   "file_extension": ".py",
   "mimetype": "text/x-python",
   "name": "python",
   "nbconvert_exporter": "python",
   "pygments_lexer": "ipython2",
   "version": "2.7.12"
  }
 },
 "nbformat": 4,
 "nbformat_minor": 0
}
