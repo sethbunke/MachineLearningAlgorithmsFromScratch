{
 "cells": [
  {
   "cell_type": "code",
   "execution_count": 1,
   "metadata": {
    "collapsed": false
   },
   "outputs": [
    {
     "name": "stdout",
     "output_type": "stream",
     "text": [
      "10\n"
     ]
    }
   ],
   "source": [
    "class OurClass:\n",
    "\n",
    "    def __init__(self, a):\n",
    "        self.OurAtt = a\n",
    "\n",
    "    @property\n",
    "    def OurAtt(self):\n",
    "        return self.__OurAtt\n",
    "\n",
    "    @OurAtt.setter\n",
    "    def OurAtt(self, val):\n",
    "        if val < 0:\n",
    "            self.__OurAtt = 0\n",
    "        elif val > 1000:\n",
    "            self.__OurAtt = 1000\n",
    "        else:\n",
    "            self.__OurAtt = val\n",
    "\n",
    "\n",
    "x = OurClass(10)\n",
    "print(x.OurAtt)"
   ]
  },
  {
   "cell_type": "code",
   "execution_count": 29,
   "metadata": {
    "collapsed": true
   },
   "outputs": [],
   "source": [
    "import numpy as np\n",
    "class SimpleLinearRegression:    \n",
    "    def train(self, x, y):        \n",
    "        self.x = np.array(x)\n",
    "        self.y = np.array(y)\n",
    "        self.x_mean = self.x.mean()\n",
    "        self.y_mean = self.y.mean()\n",
    "        self.__set_slope()\n",
    "        self.__set_intercept()\n",
    "    \n",
    "    def __set_slope(self):\n",
    "        numerator = 0\n",
    "        for i in range(len(self.x)):\n",
    "            numerator += ((self.x[i] - self.x_mean) * (self.y[i] - self.y_mean))\n",
    "\n",
    "        denominator = 0\n",
    "        for i in range(len(self.x)):\n",
    "            denominator += ((self.x[i] - self.x_mean) ** 2)\n",
    "\n",
    "        self.slope = numerator / denominator\n",
    "        \n",
    "    def __set_intercept(self):\n",
    "        self.intercept = self.y_mean - (self.slope * self.x_mean)\n",
    "        \n",
    "    def __predict(self, x):\n",
    "        return (self.slope * x) + self.intercept\n",
    "    \n",
    "    def predict(self, x):\n",
    "        return [self.__predict(value) for value in np.array(x)]        \n",
    "    \n",
    "    def rmse(self, predicted_y, actual_y):\n",
    "        import math        \n",
    "        N = len(predicted_y)\n",
    "        sum_squared_error = 0\n",
    "        for i in range(N):\n",
    "            sum_squared_error += ((predicted_y[i] - actual_y[i]) **2)\n",
    "        \n",
    "        return (math.sqrt(sum_squared_error / N))                    "
   ]
  },
  {
   "cell_type": "code",
   "execution_count": 26,
   "metadata": {
    "collapsed": false
   },
   "outputs": [],
   "source": [
    "xx = [1,2,4,3,5]\n",
    "yy = [1,2,3,3,5]\n",
    "t = SimpleLinearRegression()\n",
    "t.train(xx,yy)"
   ]
  },
  {
   "cell_type": "code",
   "execution_count": 27,
   "metadata": {
    "collapsed": false
   },
   "outputs": [],
   "source": [
    "result = t.predict(xx)"
   ]
  },
  {
   "cell_type": "code",
   "execution_count": 28,
   "metadata": {
    "collapsed": false
   },
   "outputs": [
    {
     "data": {
      "text/plain": [
       "0.3741657386773941"
      ]
     },
     "execution_count": 28,
     "metadata": {},
     "output_type": "execute_result"
    }
   ],
   "source": [
    "t.rmse(yy, result)"
   ]
  }
 ],
 "metadata": {
  "kernelspec": {
   "display_name": "Python 2",
   "language": "python",
   "name": "python2"
  },
  "language_info": {
   "codemirror_mode": {
    "name": "ipython",
    "version": 2
   },
   "file_extension": ".py",
   "mimetype": "text/x-python",
   "name": "python",
   "nbconvert_exporter": "python",
   "pygments_lexer": "ipython2",
   "version": "2.7.11"
  }
 },
 "nbformat": 4,
 "nbformat_minor": 0
}
