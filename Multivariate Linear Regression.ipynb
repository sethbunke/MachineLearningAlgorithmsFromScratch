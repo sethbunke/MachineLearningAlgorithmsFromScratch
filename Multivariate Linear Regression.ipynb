{
 "cells": [
  {
   "cell_type": "code",
   "execution_count": 6,
   "metadata": {
    "collapsed": false
   },
   "outputs": [
    {
     "name": "stdout",
     "output_type": "stream",
     "text": [
      ">epoch=0, lrate=0.001, error=46.236\n",
      ">epoch=1, lrate=0.001, error=41.305\n",
      ">epoch=2, lrate=0.001, error=36.930\n",
      ">epoch=3, lrate=0.001, error=33.047\n",
      ">epoch=4, lrate=0.001, error=29.601\n",
      ">epoch=5, lrate=0.001, error=26.543\n",
      ">epoch=6, lrate=0.001, error=23.830\n",
      ">epoch=7, lrate=0.001, error=21.422\n",
      ">epoch=8, lrate=0.001, error=19.285\n",
      ">epoch=9, lrate=0.001, error=17.389\n",
      ">epoch=10, lrate=0.001, error=15.706\n",
      ">epoch=11, lrate=0.001, error=14.213\n",
      ">epoch=12, lrate=0.001, error=12.888\n",
      ">epoch=13, lrate=0.001, error=11.712\n",
      ">epoch=14, lrate=0.001, error=10.668\n",
      ">epoch=15, lrate=0.001, error=9.742\n",
      ">epoch=16, lrate=0.001, error=8.921\n",
      ">epoch=17, lrate=0.001, error=8.191\n",
      ">epoch=18, lrate=0.001, error=7.544\n",
      ">epoch=19, lrate=0.001, error=6.970\n",
      ">epoch=20, lrate=0.001, error=6.461\n",
      ">epoch=21, lrate=0.001, error=6.009\n",
      ">epoch=22, lrate=0.001, error=5.607\n",
      ">epoch=23, lrate=0.001, error=5.251\n",
      ">epoch=24, lrate=0.001, error=4.935\n",
      ">epoch=25, lrate=0.001, error=4.655\n",
      ">epoch=26, lrate=0.001, error=4.406\n",
      ">epoch=27, lrate=0.001, error=4.186\n",
      ">epoch=28, lrate=0.001, error=3.990\n",
      ">epoch=29, lrate=0.001, error=3.816\n",
      ">epoch=30, lrate=0.001, error=3.662\n",
      ">epoch=31, lrate=0.001, error=3.525\n",
      ">epoch=32, lrate=0.001, error=3.404\n",
      ">epoch=33, lrate=0.001, error=3.296\n",
      ">epoch=34, lrate=0.001, error=3.200\n",
      ">epoch=35, lrate=0.001, error=3.115\n",
      ">epoch=36, lrate=0.001, error=3.040\n",
      ">epoch=37, lrate=0.001, error=2.973\n",
      ">epoch=38, lrate=0.001, error=2.914\n",
      ">epoch=39, lrate=0.001, error=2.862\n",
      ">epoch=40, lrate=0.001, error=2.815\n",
      ">epoch=41, lrate=0.001, error=2.773\n",
      ">epoch=42, lrate=0.001, error=2.737\n",
      ">epoch=43, lrate=0.001, error=2.704\n",
      ">epoch=44, lrate=0.001, error=2.675\n",
      ">epoch=45, lrate=0.001, error=2.650\n",
      ">epoch=46, lrate=0.001, error=2.627\n",
      ">epoch=47, lrate=0.001, error=2.607\n",
      ">epoch=48, lrate=0.001, error=2.589\n",
      ">epoch=49, lrate=0.001, error=2.573\n",
      "[0.22998234937311363, 0.8017220304137576]\n"
     ]
    }
   ],
   "source": [
    "# Make a prediction\n",
    "def predict(row, coefficients):\n",
    "\tyhat = coefficients[0]\n",
    "\tfor i in range(len(row)-1):\n",
    "\t\tyhat += coefficients[i + 1] * row[i]\n",
    "\treturn yhat\n",
    "\n",
    "# Estimate linear regression coefficients using stochastic gradient descent\n",
    "def coefficients_sgd(train, l_rate, n_epoch):\n",
    "\tcoef = [0.0 for i in range(len(train[0]))]\n",
    "\tfor epoch in range(n_epoch):\n",
    "\t\tsum_error = 0\n",
    "\t\tfor row in train:\n",
    "\t\t\tyhat = predict(row, coef)\n",
    "\t\t\terror = yhat - row[-1]\n",
    "\t\t\tsum_error += error**2\n",
    "\t\t\tcoef[0] = coef[0] - l_rate * error\n",
    "\t\t\tfor i in range(len(row)-1):\n",
    "\t\t\t\tcoef[i + 1] = coef[i + 1] - l_rate * error * row[i]\n",
    "\t\tprint('>epoch=%d, lrate=%.3f, error=%.3f' % (epoch, l_rate, sum_error))\n",
    "\treturn coef\n",
    "\n",
    "# Calculate coefficients\n",
    "dataset = [[1, 1], [2, 3], [4, 3], [3, 2], [5, 5]]\n",
    "l_rate = 0.001\n",
    "n_epoch = 50\n",
    "coef = coefficients_sgd(dataset, l_rate, n_epoch)\n",
    "print(coef)"
   ]
  },
  {
   "cell_type": "code",
   "execution_count": 9,
   "metadata": {
    "collapsed": false
   },
   "outputs": [
    {
     "name": "stdout",
     "output_type": "stream",
     "text": [
      "[1, 1]\n",
      "Expected=1.000, Predicted=1.200\n",
      "[2, 3]\n",
      "Expected=3.000, Predicted=2.000\n",
      "[4, 3]\n",
      "Expected=3.000, Predicted=3.600\n",
      "[3, 2]\n",
      "Expected=2.000, Predicted=2.800\n",
      "[5, 5]\n",
      "Expected=5.000, Predicted=4.400\n"
     ]
    }
   ],
   "source": [
    "# Example of making a prediction with coefficients\n",
    "\n",
    "# Make a prediction\n",
    "def predict(row, coefficients):\n",
    "    print(row)\n",
    "    yhat = coefficients[0]\n",
    "    for i in range(len(row)-1):\n",
    "#         print(i)\n",
    "#         print(row[i])\n",
    "#         print(coefficients[i + 1])\n",
    "        yhat += coefficients[i + 1] * row[i] #x value from row and second coefficient\n",
    "    return yhat\n",
    "\n",
    "dataset = [[1, 1], [2, 3], [4, 3], [3, 2], [5, 5]]\n",
    "coef = [0.4, 0.8]\n",
    "for row in dataset:\n",
    "    yhat = predict(row, coef)\n",
    "    print(\"Expected=%.3f, Predicted=%.3f\" % (row[-1], yhat))"
   ]
  },
  {
   "cell_type": "code",
   "execution_count": 3,
   "metadata": {
    "collapsed": false
   },
   "outputs": [],
   "source": [
    "class MultivariateLinearRegression:   \n",
    "    def train(self, x, y, rate, epochs):        \n",
    "        self.x = np.array(x)\n",
    "        self.y = np.array(y)\n",
    "        self.x_mean = self.x.mean()\n",
    "        self.y_mean = self.y.mean()\n",
    "        "
   ]
  },
  {
   "cell_type": "code",
   "execution_count": 28,
   "metadata": {
    "collapsed": false
   },
   "outputs": [
    {
     "name": "stdout",
     "output_type": "stream",
     "text": [
      "yhat> 0.4\n",
      "coef: 0.8\n",
      "1.2000000000000002 = 0.4 + (0.8 * 1)\n",
      "RESULT: yhat: 1.2000000000000002 coef: 0.8 row val: 1\n",
      "Expected=1.000, Predicted=1.200\n",
      "yhat> 0.4\n",
      "coef: 0.8\n",
      "2.0 = 0.4 + (0.8 * 2)\n",
      "RESULT: yhat: 2.0 coef: 0.8 row val: 2\n",
      "Expected=3.000, Predicted=2.000\n",
      "yhat> 0.4\n",
      "coef: 0.8\n",
      "3.6 = 0.4 + (0.8 * 4)\n",
      "RESULT: yhat: 3.6 coef: 0.8 row val: 4\n",
      "Expected=3.000, Predicted=3.600\n",
      "yhat> 0.4\n",
      "coef: 0.8\n",
      "2.8000000000000003 = 0.4 + (0.8 * 3)\n",
      "RESULT: yhat: 2.8000000000000003 coef: 0.8 row val: 3\n",
      "Expected=2.000, Predicted=2.800\n",
      "yhat> 0.4\n",
      "coef: 0.8\n",
      "4.4 = 0.4 + (0.8 * 5)\n",
      "RESULT: yhat: 4.4 coef: 0.8 row val: 5\n",
      "Expected=5.000, Predicted=4.400\n"
     ]
    }
   ],
   "source": [
    "# Make a prediction\n",
    "def predict(row, coefficients):\n",
    "    yhat = coefficients[0] #this is the y-intercept\n",
    "    print(\"yhat> \" + str(yhat))\n",
    "    for i in range(len(row)-1): #from 0 to the number of items in row - 1\n",
    "        c = coefficients[i + 1]\n",
    "        r = row[i] \n",
    "        y = yhat\n",
    "        print('coef: ' + str(c))\n",
    "        yhat += coefficients[i + 1] * row[i]\n",
    "        \n",
    "        print(str(yhat) + \" = \" + str(y) + \" + (\" + str(c) + \" * \" + str(r) + \")\")\n",
    "        print(\"RESULT: yhat: \" + str(yhat) + \" coef: \" + str(c) + \" row val: \" + str(r))\n",
    "    return yhat #return total for all rows\n",
    "\n",
    "\n",
    "dataset = [[1, 1], [2, 3], [4, 3], [3, 2], [5, 5]]\n",
    "coef = [0.4, 0.8]\n",
    "for row in dataset:\n",
    "  yhat = predict(row, coef)\n",
    "  print(\"Expected=%.3f, Predicted=%.3f\" % (row[-1], yhat))"
   ]
  },
  {
   "cell_type": "code",
   "execution_count": 17,
   "metadata": {
    "collapsed": false
   },
   "outputs": [
    {
     "name": "stdout",
     "output_type": "stream",
     "text": [
      "[0.0, 0.0]\n",
      "yhat> 0.0\n",
      "0\n",
      ">epoch=0, lrate=0.001, error=1.000\n",
      "yhat> 0.001\n",
      "0\n",
      ">epoch=0, lrate=0.001, error=9.982\n",
      "yhat> 0.0039970000000000006\n",
      "0\n",
      ">epoch=0, lrate=0.001, error=18.791\n",
      "yhat> 0.006965027\n",
      "0\n",
      ">epoch=0, lrate=0.001, error=22.541\n",
      "yhat> 0.008901463649000001\n",
      "0\n",
      ">epoch=0, lrate=0.001, error=46.236\n",
      "[0.013769185095616001, 0.049014025180079995]\n"
     ]
    }
   ],
   "source": [
    "# Make a prediction\n",
    "def predict(row, coefficients):\n",
    "    yhat = coefficients[0] #this is the y-intercept\n",
    "    print(\"yhat> \" + str(yhat))\n",
    "    for i in range(len(row)-1): #from 0 to the number of items in row - 1\n",
    "        print(i)\n",
    "        yhat += coefficients[i + 1] * row[i]\n",
    "    return yhat\n",
    "\n",
    "# Estimate linear regression coefficients using stochastic gradient descent\n",
    "def coefficients_sgd(train, l_rate, n_epoch):\n",
    "    coef = [0.0 for i in range(len(train[0]))] #start with zeroes for coefficients\n",
    "    #the number of coefficients is the number of features in each row\n",
    "    print(coef)\n",
    "    for epoch in range(n_epoch):\n",
    "        sum_error = 0\n",
    "        for row in train:\n",
    "            #for each row\n",
    "            yhat = predict(row, coef) #yhat is the predicted value\n",
    "            #print(row[-1])\n",
    "            error = yhat - row[-1] # yhat minus to last colum in row (actual value)\n",
    "            sum_error += error**2\n",
    "            coef[0] = coef[0] - l_rate * error #y-intercept\n",
    "            for i in range(len(row)-1):\n",
    "                coef[i + 1] = coef[i + 1] - l_rate * error * row[i]\n",
    "            print('>epoch=%d, lrate=%.3f, error=%.3f' % (epoch, l_rate, sum_error))\n",
    "    return coef\n",
    "\n",
    "# Calculate coefficients\n",
    "dataset = [[1, 1], [2, 3], [4, 3], [3, 2], [5, 5]]\n",
    "l_rate = 0.001\n",
    "n_epoch = 1\n",
    "coef = coefficients_sgd(dataset, l_rate, n_epoch)\n",
    "print(coef)\n"
   ]
  }
 ],
 "metadata": {
  "kernelspec": {
   "display_name": "Python [default]",
   "language": "python",
   "name": "python3"
  },
  "language_info": {
   "codemirror_mode": {
    "name": "ipython",
    "version": 3
   },
   "file_extension": ".py",
   "mimetype": "text/x-python",
   "name": "python",
   "nbconvert_exporter": "python",
   "pygments_lexer": "ipython3",
   "version": "3.5.2"
  }
 },
 "nbformat": 4,
 "nbformat_minor": 0
}
